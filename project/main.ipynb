{
 "cells": [
  {
   "cell_type": "code",
   "execution_count": 1,
   "id": "initial_id",
   "metadata": {
    "collapsed": true,
    "ExecuteTime": {
     "end_time": "2024-10-19T15:33:54.535672Z",
     "start_time": "2024-10-19T15:33:52.200131Z"
    }
   },
   "outputs": [],
   "source": [
    "import pandas as pd\n",
    "import numpy as np\n",
    "import matplotlib.pyplot as plt\n",
    "from sklearn.model_selection import train_test_split\n",
    "from sklearn.linear_model import LogisticRegression\n"
   ]
  },
  {
   "cell_type": "code",
   "outputs": [
    {
     "data": {
      "text/plain": "        ID  Age (years) Sex Category OnsetRegion   Therapy GeneticTest  \\\n0    PZ034         58.0   M      ALS      spinal  Riluzole    negative   \n1    CT047         76.0   M       HC           -         -           -   \n2    PZ041         74.0   F      ALS      bulbar  Riluzole    negative   \n3    PZ073         77.0   M      ALS      spinal       NaN    negative   \n4    CT028         61.0   F       HC           -         -           -   \n..     ...          ...  ..      ...         ...       ...         ...   \n148  CT061         54.0   M       HC           -         -           -   \n149  PZ052         70.0   M      ALS      spinal       NaN    negative   \n150  PZ094         51.0   M      ALS      spinal  Riluzole    negative   \n151  PZ100         51.0   F      ALS      spinal       NaN    negative   \n152  PZ077         62.0   F      ALS      spinal       NaN    negative   \n\n    DiagnosticDelay DiseaseDuration FVC%   ... stdevF0Hz_reading HNR_reading  \\\n0                56              68    38  ...         25.600493   14.628406   \n1                 -               -     -  ...         17.552534   13.049038   \n2                11              59    43  ...         27.288251    6.273478   \n3                37              37    99  ...         32.185735   16.471982   \n4                 -               -     -  ...         26.534077   14.130253   \n..              ...             ...   ...  ...               ...         ...   \n148               -               -     -  ...         20.445599   12.725150   \n149               9               9    97  ...         47.189924   14.996596   \n150               8               9    89  ...         19.902948   12.739829   \n151               9               9   124  ...         59.497713   13.084609   \n152              27              27    84  ...         42.567249   18.736497   \n\n    localJitter_reading localShimmer_reading meanF0Hz_weekdays  \\\n0              0.024556             0.101038        134.358426   \n1              0.024900             0.107048        127.611455   \n2              0.048908             0.173242        313.471099   \n3              0.026599             0.094550        143.224404   \n4              0.021391             0.107649        149.106332   \n..                  ...                  ...               ...   \n148            0.029448             0.129828        102.323101   \n149            0.025562             0.090555        172.125564   \n150            0.027704             0.106279         94.570705   \n151            0.026870             0.121823        179.991873   \n152            0.013633             0.057022        210.197208   \n\n    stdevF0Hz_weekdays HNR_weekdays localJitter_weekdays  \\\n0            27.834251    11.559769             0.031324   \n1            10.537534    13.078998             0.024352   \n2            48.290021    18.394187             0.011568   \n3            13.736031     9.923654             0.052997   \n4            13.907753    14.660498             0.019712   \n..                 ...          ...                  ...   \n148           9.351459    12.980051             0.021624   \n149          27.312757    13.443612             0.022550   \n150          17.114239     9.138906             0.036094   \n151          22.833428    17.908040             0.019972   \n152          21.825085    16.401759             0.022534   \n\n    localShimmer_weekdays Cantagallo_Questionnaire  \n0                0.091914                      9.0  \n1                0.121875                     16.0  \n2                0.070200                     65.0  \n3                0.174522                     44.0  \n4                0.105505                     22.0  \n..                    ...                      ...  \n148              0.145985                     19.0  \n149              0.119994                      9.0  \n150              0.153001                      8.0  \n151              0.088654                     20.0  \n152              0.112827                     10.0  \n\n[153 rows x 89 columns]",
      "text/html": "<div>\n<style scoped>\n    .dataframe tbody tr th:only-of-type {\n        vertical-align: middle;\n    }\n\n    .dataframe tbody tr th {\n        vertical-align: top;\n    }\n\n    .dataframe thead th {\n        text-align: right;\n    }\n</style>\n<table border=\"1\" class=\"dataframe\">\n  <thead>\n    <tr style=\"text-align: right;\">\n      <th></th>\n      <th>ID</th>\n      <th>Age (years)</th>\n      <th>Sex</th>\n      <th>Category</th>\n      <th>OnsetRegion</th>\n      <th>Therapy</th>\n      <th>GeneticTest</th>\n      <th>DiagnosticDelay</th>\n      <th>DiseaseDuration</th>\n      <th>FVC%</th>\n      <th>...</th>\n      <th>stdevF0Hz_reading</th>\n      <th>HNR_reading</th>\n      <th>localJitter_reading</th>\n      <th>localShimmer_reading</th>\n      <th>meanF0Hz_weekdays</th>\n      <th>stdevF0Hz_weekdays</th>\n      <th>HNR_weekdays</th>\n      <th>localJitter_weekdays</th>\n      <th>localShimmer_weekdays</th>\n      <th>Cantagallo_Questionnaire</th>\n    </tr>\n  </thead>\n  <tbody>\n    <tr>\n      <th>0</th>\n      <td>PZ034</td>\n      <td>58.0</td>\n      <td>M</td>\n      <td>ALS</td>\n      <td>spinal</td>\n      <td>Riluzole</td>\n      <td>negative</td>\n      <td>56</td>\n      <td>68</td>\n      <td>38</td>\n      <td>...</td>\n      <td>25.600493</td>\n      <td>14.628406</td>\n      <td>0.024556</td>\n      <td>0.101038</td>\n      <td>134.358426</td>\n      <td>27.834251</td>\n      <td>11.559769</td>\n      <td>0.031324</td>\n      <td>0.091914</td>\n      <td>9.0</td>\n    </tr>\n    <tr>\n      <th>1</th>\n      <td>CT047</td>\n      <td>76.0</td>\n      <td>M</td>\n      <td>HC</td>\n      <td>-</td>\n      <td>-</td>\n      <td>-</td>\n      <td>-</td>\n      <td>-</td>\n      <td>-</td>\n      <td>...</td>\n      <td>17.552534</td>\n      <td>13.049038</td>\n      <td>0.024900</td>\n      <td>0.107048</td>\n      <td>127.611455</td>\n      <td>10.537534</td>\n      <td>13.078998</td>\n      <td>0.024352</td>\n      <td>0.121875</td>\n      <td>16.0</td>\n    </tr>\n    <tr>\n      <th>2</th>\n      <td>PZ041</td>\n      <td>74.0</td>\n      <td>F</td>\n      <td>ALS</td>\n      <td>bulbar</td>\n      <td>Riluzole</td>\n      <td>negative</td>\n      <td>11</td>\n      <td>59</td>\n      <td>43</td>\n      <td>...</td>\n      <td>27.288251</td>\n      <td>6.273478</td>\n      <td>0.048908</td>\n      <td>0.173242</td>\n      <td>313.471099</td>\n      <td>48.290021</td>\n      <td>18.394187</td>\n      <td>0.011568</td>\n      <td>0.070200</td>\n      <td>65.0</td>\n    </tr>\n    <tr>\n      <th>3</th>\n      <td>PZ073</td>\n      <td>77.0</td>\n      <td>M</td>\n      <td>ALS</td>\n      <td>spinal</td>\n      <td>NaN</td>\n      <td>negative</td>\n      <td>37</td>\n      <td>37</td>\n      <td>99</td>\n      <td>...</td>\n      <td>32.185735</td>\n      <td>16.471982</td>\n      <td>0.026599</td>\n      <td>0.094550</td>\n      <td>143.224404</td>\n      <td>13.736031</td>\n      <td>9.923654</td>\n      <td>0.052997</td>\n      <td>0.174522</td>\n      <td>44.0</td>\n    </tr>\n    <tr>\n      <th>4</th>\n      <td>CT028</td>\n      <td>61.0</td>\n      <td>F</td>\n      <td>HC</td>\n      <td>-</td>\n      <td>-</td>\n      <td>-</td>\n      <td>-</td>\n      <td>-</td>\n      <td>-</td>\n      <td>...</td>\n      <td>26.534077</td>\n      <td>14.130253</td>\n      <td>0.021391</td>\n      <td>0.107649</td>\n      <td>149.106332</td>\n      <td>13.907753</td>\n      <td>14.660498</td>\n      <td>0.019712</td>\n      <td>0.105505</td>\n      <td>22.0</td>\n    </tr>\n    <tr>\n      <th>...</th>\n      <td>...</td>\n      <td>...</td>\n      <td>...</td>\n      <td>...</td>\n      <td>...</td>\n      <td>...</td>\n      <td>...</td>\n      <td>...</td>\n      <td>...</td>\n      <td>...</td>\n      <td>...</td>\n      <td>...</td>\n      <td>...</td>\n      <td>...</td>\n      <td>...</td>\n      <td>...</td>\n      <td>...</td>\n      <td>...</td>\n      <td>...</td>\n      <td>...</td>\n      <td>...</td>\n    </tr>\n    <tr>\n      <th>148</th>\n      <td>CT061</td>\n      <td>54.0</td>\n      <td>M</td>\n      <td>HC</td>\n      <td>-</td>\n      <td>-</td>\n      <td>-</td>\n      <td>-</td>\n      <td>-</td>\n      <td>-</td>\n      <td>...</td>\n      <td>20.445599</td>\n      <td>12.725150</td>\n      <td>0.029448</td>\n      <td>0.129828</td>\n      <td>102.323101</td>\n      <td>9.351459</td>\n      <td>12.980051</td>\n      <td>0.021624</td>\n      <td>0.145985</td>\n      <td>19.0</td>\n    </tr>\n    <tr>\n      <th>149</th>\n      <td>PZ052</td>\n      <td>70.0</td>\n      <td>M</td>\n      <td>ALS</td>\n      <td>spinal</td>\n      <td>NaN</td>\n      <td>negative</td>\n      <td>9</td>\n      <td>9</td>\n      <td>97</td>\n      <td>...</td>\n      <td>47.189924</td>\n      <td>14.996596</td>\n      <td>0.025562</td>\n      <td>0.090555</td>\n      <td>172.125564</td>\n      <td>27.312757</td>\n      <td>13.443612</td>\n      <td>0.022550</td>\n      <td>0.119994</td>\n      <td>9.0</td>\n    </tr>\n    <tr>\n      <th>150</th>\n      <td>PZ094</td>\n      <td>51.0</td>\n      <td>M</td>\n      <td>ALS</td>\n      <td>spinal</td>\n      <td>Riluzole</td>\n      <td>negative</td>\n      <td>8</td>\n      <td>9</td>\n      <td>89</td>\n      <td>...</td>\n      <td>19.902948</td>\n      <td>12.739829</td>\n      <td>0.027704</td>\n      <td>0.106279</td>\n      <td>94.570705</td>\n      <td>17.114239</td>\n      <td>9.138906</td>\n      <td>0.036094</td>\n      <td>0.153001</td>\n      <td>8.0</td>\n    </tr>\n    <tr>\n      <th>151</th>\n      <td>PZ100</td>\n      <td>51.0</td>\n      <td>F</td>\n      <td>ALS</td>\n      <td>spinal</td>\n      <td>NaN</td>\n      <td>negative</td>\n      <td>9</td>\n      <td>9</td>\n      <td>124</td>\n      <td>...</td>\n      <td>59.497713</td>\n      <td>13.084609</td>\n      <td>0.026870</td>\n      <td>0.121823</td>\n      <td>179.991873</td>\n      <td>22.833428</td>\n      <td>17.908040</td>\n      <td>0.019972</td>\n      <td>0.088654</td>\n      <td>20.0</td>\n    </tr>\n    <tr>\n      <th>152</th>\n      <td>PZ077</td>\n      <td>62.0</td>\n      <td>F</td>\n      <td>ALS</td>\n      <td>spinal</td>\n      <td>NaN</td>\n      <td>negative</td>\n      <td>27</td>\n      <td>27</td>\n      <td>84</td>\n      <td>...</td>\n      <td>42.567249</td>\n      <td>18.736497</td>\n      <td>0.013633</td>\n      <td>0.057022</td>\n      <td>210.197208</td>\n      <td>21.825085</td>\n      <td>16.401759</td>\n      <td>0.022534</td>\n      <td>0.112827</td>\n      <td>10.0</td>\n    </tr>\n  </tbody>\n</table>\n<p>153 rows × 89 columns</p>\n</div>"
     },
     "execution_count": 42,
     "metadata": {},
     "output_type": "execute_result"
    }
   ],
   "source": [
    "df = pd.read_csv('data/VOC-ALS.csv', sep=';',  decimal=',')[:153] # the rest is empty\n",
    "df.drop(df.columns[df.columns.str.contains('unnamed',case = False)],axis = 1, inplace = True)\n",
    "df = df.sample(frac=1).reset_index(drop=True) # shuffle\n",
    "df "
   ],
   "metadata": {
    "collapsed": false,
    "ExecuteTime": {
     "end_time": "2024-10-19T15:58:50.633054Z",
     "start_time": "2024-10-19T15:58:50.598515Z"
    }
   },
   "id": "ac19b6417e4e9919",
   "execution_count": 42
  },
  {
   "cell_type": "code",
   "outputs": [
    {
     "name": "stdout",
     "output_type": "stream",
     "text": [
      "<class 'pandas.core.frame.DataFrame'>\n",
      "RangeIndex: 153 entries, 0 to 152\n",
      "Data columns (total 89 columns):\n",
      " #   Column                                       Non-Null Count  Dtype  \n",
      "---  ------                                       --------------  -----  \n",
      " 0   ID                                           153 non-null    object \n",
      " 1   Age (years)                                  153 non-null    float64\n",
      " 2   Sex                                          153 non-null    object \n",
      " 3   Category                                     153 non-null    object \n",
      " 4   OnsetRegion                                  153 non-null    object \n",
      " 5   Therapy                                      104 non-null    object \n",
      " 6   GeneticTest                                  153 non-null    object \n",
      " 7   DiagnosticDelay                              153 non-null    object \n",
      " 8   DiseaseDuration                              153 non-null    object \n",
      " 9   FVC%                                         153 non-null    object \n",
      " 10  ALSFRS-R_TotalScore                          153 non-null    object \n",
      " 11   ProgressionRate                             153 non-null    object \n",
      " 12  Revised_ElEscorial_Criteria                  153 non-null    object \n",
      " 13  ALSFRS-R_SpeechSubscore                      153 non-null    object \n",
      " 14  ALSFRS-R_SalivationSubscore                  153 non-null    object \n",
      " 15  ALSFRS-R_SwallowingSubscore                  153 non-null    object \n",
      " 16  ALSFRS-R_HandwritingSubscore                 153 non-null    object \n",
      " 17  ALSFRS-R_CuttingFoodSubscore                 153 non-null    object \n",
      " 18  ALSFRS-R_CuttingFoodWithGastrostomySubscore  153 non-null    object \n",
      " 19  ALSFRS-R_DressingHygieneSubscore             153 non-null    object \n",
      " 20  ALSFRS-R_TurningBedSubscore                  153 non-null    object \n",
      " 21  ALSFRS-R_WalkingSubscore                     153 non-null    object \n",
      " 22  ALSFRS-R_ClimbingStairsSubscore              153 non-null    object \n",
      " 23  ALSFRS-R_DyspneaSubscore                     153 non-null    object \n",
      " 24  ALSFRS-R_OrthopneaSubscore                   153 non-null    object \n",
      " 25  ALSFRS-R_BreathingInsufficiencySubscore      153 non-null    object \n",
      " 26  KingClinicalStage                            153 non-null    object \n",
      " 27  MRC_HeadMuscles                              153 non-null    object \n",
      " 28  MRC_UpperLimbMuscles                         153 non-null    object \n",
      " 29  MRC_LowerLimbsMuscles                        153 non-null    object \n",
      " 30  PUMNS_BulbarSubscore                         153 non-null    object \n",
      " 31  PUMNS_UpperLimbsSubscore                     153 non-null    object \n",
      " 32  PUMNS_LowerLimbsSubscore                     153 non-null    object \n",
      " 33  meanF0Hz_A                                   153 non-null    float64\n",
      " 34  stdevF0Hz_A                                  153 non-null    float64\n",
      " 35  HNR_A                                        153 non-null    float64\n",
      " 36  localJitter_A                                153 non-null    float64\n",
      " 37  localShimmer_A                               153 non-null    float64\n",
      " 38  meanF0Hz_E                                   153 non-null    float64\n",
      " 39  stdevF0Hz_E                                  153 non-null    float64\n",
      " 40  HNR_E                                        153 non-null    float64\n",
      " 41  localJitter_E                                153 non-null    float64\n",
      " 42  localShimmer_E                               153 non-null    float64\n",
      " 43  meanF0Hz_I                                   153 non-null    float64\n",
      " 44  stdevF0Hz_I                                  153 non-null    float64\n",
      " 45  HNR_I                                        153 non-null    float64\n",
      " 46  localJitter_I                                153 non-null    float64\n",
      " 47  localShimmer_I                               153 non-null    float64\n",
      " 48  meanF0Hz_O                                   153 non-null    float64\n",
      " 49  stdevF0Hz_O                                  153 non-null    float64\n",
      " 50  HNR_O                                        153 non-null    float64\n",
      " 51  localJitter_O                                153 non-null    float64\n",
      " 52  localShimmer_O                               153 non-null    float64\n",
      " 53  meanF0Hz_U                                   153 non-null    float64\n",
      " 54  stdevF0Hz_U                                  153 non-null    float64\n",
      " 55  HNR_U                                        153 non-null    float64\n",
      " 56  localJitter_U                                153 non-null    float64\n",
      " 57  localShimmer_U                               153 non-null    float64\n",
      " 58  meanF0Hz_PA                                  153 non-null    float64\n",
      " 59  stdevF0Hz_PA                                 153 non-null    float64\n",
      " 60  HNR_PA                                       153 non-null    float64\n",
      " 61  localJitter_PA                               153 non-null    float64\n",
      " 62  localShimmer_PA                              153 non-null    float64\n",
      " 63  meanF0Hz_TA                                  153 non-null    float64\n",
      " 64  stdevF0Hz_TA                                 153 non-null    float64\n",
      " 65  HNR_TA                                       153 non-null    float64\n",
      " 66  localJitter_TA                               153 non-null    float64\n",
      " 67  localShimmer_TA                              153 non-null    float64\n",
      " 68  meanF0Hz_KA                                  153 non-null    float64\n",
      " 69  stdevF0Hz_KA                                 153 non-null    float64\n",
      " 70  HNR_KA                                       153 non-null    float64\n",
      " 71  localJitter_KA                               153 non-null    float64\n",
      " 72  localShimmer_KA                              153 non-null    float64\n",
      " 73  meanF0Hz_monologue                           153 non-null    float64\n",
      " 74  stdevF0Hz_monologue                          153 non-null    float64\n",
      " 75  HNR_monologue                                153 non-null    float64\n",
      " 76  localJitter_monologue                        153 non-null    float64\n",
      " 77  localShimmer_monologue                       153 non-null    float64\n",
      " 78  meanF0Hz_reading                             153 non-null    float64\n",
      " 79  stdevF0Hz_reading                            153 non-null    float64\n",
      " 80  HNR_reading                                  153 non-null    float64\n",
      " 81  localJitter_reading                          153 non-null    float64\n",
      " 82  localShimmer_reading                         153 non-null    float64\n",
      " 83  meanF0Hz_weekdays                            153 non-null    float64\n",
      " 84  stdevF0Hz_weekdays                           153 non-null    float64\n",
      " 85  HNR_weekdays                                 153 non-null    float64\n",
      " 86  localJitter_weekdays                         153 non-null    float64\n",
      " 87  localShimmer_weekdays                        153 non-null    float64\n",
      " 88  Cantagallo_Questionnaire                     153 non-null    float64\n",
      "dtypes: float64(57), object(32)\n",
      "memory usage: 106.5+ KB\n"
     ]
    }
   ],
   "source": [
    "df.info()"
   ],
   "metadata": {
    "collapsed": false,
    "ExecuteTime": {
     "end_time": "2024-10-19T15:58:52.041576Z",
     "start_time": "2024-10-19T15:58:52.030076Z"
    }
   },
   "id": "53bc49553e30db49",
   "execution_count": 43
  },
  {
   "cell_type": "code",
   "outputs": [
    {
     "data": {
      "text/plain": "      ID  Age (years) Sex Category OnsetRegion   Therapy GeneticTest  \\\n0  PZ034         58.0   M      ALS      spinal  Riluzole    negative   \n1  CT047         76.0   M       HC           -         -           -   \n2  PZ041         74.0   F      ALS      bulbar  Riluzole    negative   \n3  PZ073         77.0   M      ALS      spinal       NaN    negative   \n4  CT028         61.0   F       HC           -         -           -   \n\n  DiagnosticDelay DiseaseDuration FVC%   ... stdevF0Hz_reading HNR_reading  \\\n0              56              68    38  ...         25.600493   14.628406   \n1               -               -     -  ...         17.552534   13.049038   \n2              11              59    43  ...         27.288251    6.273478   \n3              37              37    99  ...         32.185735   16.471982   \n4               -               -     -  ...         26.534077   14.130253   \n\n  localJitter_reading localShimmer_reading meanF0Hz_weekdays  \\\n0            0.024556             0.101038        134.358426   \n1            0.024900             0.107048        127.611455   \n2            0.048908             0.173242        313.471099   \n3            0.026599             0.094550        143.224404   \n4            0.021391             0.107649        149.106332   \n\n  stdevF0Hz_weekdays HNR_weekdays localJitter_weekdays localShimmer_weekdays  \\\n0          27.834251    11.559769             0.031324              0.091914   \n1          10.537534    13.078998             0.024352              0.121875   \n2          48.290021    18.394187             0.011568              0.070200   \n3          13.736031     9.923654             0.052997              0.174522   \n4          13.907753    14.660498             0.019712              0.105505   \n\n  Cantagallo_Questionnaire  \n0                      9.0  \n1                     16.0  \n2                     65.0  \n3                     44.0  \n4                     22.0  \n\n[5 rows x 89 columns]",
      "text/html": "<div>\n<style scoped>\n    .dataframe tbody tr th:only-of-type {\n        vertical-align: middle;\n    }\n\n    .dataframe tbody tr th {\n        vertical-align: top;\n    }\n\n    .dataframe thead th {\n        text-align: right;\n    }\n</style>\n<table border=\"1\" class=\"dataframe\">\n  <thead>\n    <tr style=\"text-align: right;\">\n      <th></th>\n      <th>ID</th>\n      <th>Age (years)</th>\n      <th>Sex</th>\n      <th>Category</th>\n      <th>OnsetRegion</th>\n      <th>Therapy</th>\n      <th>GeneticTest</th>\n      <th>DiagnosticDelay</th>\n      <th>DiseaseDuration</th>\n      <th>FVC%</th>\n      <th>...</th>\n      <th>stdevF0Hz_reading</th>\n      <th>HNR_reading</th>\n      <th>localJitter_reading</th>\n      <th>localShimmer_reading</th>\n      <th>meanF0Hz_weekdays</th>\n      <th>stdevF0Hz_weekdays</th>\n      <th>HNR_weekdays</th>\n      <th>localJitter_weekdays</th>\n      <th>localShimmer_weekdays</th>\n      <th>Cantagallo_Questionnaire</th>\n    </tr>\n  </thead>\n  <tbody>\n    <tr>\n      <th>0</th>\n      <td>PZ034</td>\n      <td>58.0</td>\n      <td>M</td>\n      <td>ALS</td>\n      <td>spinal</td>\n      <td>Riluzole</td>\n      <td>negative</td>\n      <td>56</td>\n      <td>68</td>\n      <td>38</td>\n      <td>...</td>\n      <td>25.600493</td>\n      <td>14.628406</td>\n      <td>0.024556</td>\n      <td>0.101038</td>\n      <td>134.358426</td>\n      <td>27.834251</td>\n      <td>11.559769</td>\n      <td>0.031324</td>\n      <td>0.091914</td>\n      <td>9.0</td>\n    </tr>\n    <tr>\n      <th>1</th>\n      <td>CT047</td>\n      <td>76.0</td>\n      <td>M</td>\n      <td>HC</td>\n      <td>-</td>\n      <td>-</td>\n      <td>-</td>\n      <td>-</td>\n      <td>-</td>\n      <td>-</td>\n      <td>...</td>\n      <td>17.552534</td>\n      <td>13.049038</td>\n      <td>0.024900</td>\n      <td>0.107048</td>\n      <td>127.611455</td>\n      <td>10.537534</td>\n      <td>13.078998</td>\n      <td>0.024352</td>\n      <td>0.121875</td>\n      <td>16.0</td>\n    </tr>\n    <tr>\n      <th>2</th>\n      <td>PZ041</td>\n      <td>74.0</td>\n      <td>F</td>\n      <td>ALS</td>\n      <td>bulbar</td>\n      <td>Riluzole</td>\n      <td>negative</td>\n      <td>11</td>\n      <td>59</td>\n      <td>43</td>\n      <td>...</td>\n      <td>27.288251</td>\n      <td>6.273478</td>\n      <td>0.048908</td>\n      <td>0.173242</td>\n      <td>313.471099</td>\n      <td>48.290021</td>\n      <td>18.394187</td>\n      <td>0.011568</td>\n      <td>0.070200</td>\n      <td>65.0</td>\n    </tr>\n    <tr>\n      <th>3</th>\n      <td>PZ073</td>\n      <td>77.0</td>\n      <td>M</td>\n      <td>ALS</td>\n      <td>spinal</td>\n      <td>NaN</td>\n      <td>negative</td>\n      <td>37</td>\n      <td>37</td>\n      <td>99</td>\n      <td>...</td>\n      <td>32.185735</td>\n      <td>16.471982</td>\n      <td>0.026599</td>\n      <td>0.094550</td>\n      <td>143.224404</td>\n      <td>13.736031</td>\n      <td>9.923654</td>\n      <td>0.052997</td>\n      <td>0.174522</td>\n      <td>44.0</td>\n    </tr>\n    <tr>\n      <th>4</th>\n      <td>CT028</td>\n      <td>61.0</td>\n      <td>F</td>\n      <td>HC</td>\n      <td>-</td>\n      <td>-</td>\n      <td>-</td>\n      <td>-</td>\n      <td>-</td>\n      <td>-</td>\n      <td>...</td>\n      <td>26.534077</td>\n      <td>14.130253</td>\n      <td>0.021391</td>\n      <td>0.107649</td>\n      <td>149.106332</td>\n      <td>13.907753</td>\n      <td>14.660498</td>\n      <td>0.019712</td>\n      <td>0.105505</td>\n      <td>22.0</td>\n    </tr>\n  </tbody>\n</table>\n<p>5 rows × 89 columns</p>\n</div>"
     },
     "execution_count": 44,
     "metadata": {},
     "output_type": "execute_result"
    }
   ],
   "source": [
    "df.head()"
   ],
   "metadata": {
    "collapsed": false,
    "ExecuteTime": {
     "end_time": "2024-10-19T15:58:52.859014Z",
     "start_time": "2024-10-19T15:58:52.828784Z"
    }
   },
   "id": "14215b3ee8fa3f7a",
   "execution_count": 44
  },
  {
   "cell_type": "code",
   "outputs": [
    {
     "data": {
      "text/plain": "     meanF0Hz_A  stdevF0Hz_A      HNR_A  localJitter_A  localShimmer_A  \\\n0    122.625890    18.308558   6.185609       0.025957        0.085198   \n1    102.958538     2.024638  13.491418       0.004990        0.083933   \n2    283.735303    10.781174  14.269925       0.006732        0.090368   \n3    144.947021    47.763949  11.205767       0.027163        0.112227   \n4    139.629661     7.814077   8.086968       0.015185        0.043142   \n..          ...          ...        ...            ...             ...   \n148   98.928193     4.137723   9.468533       0.010948        0.118995   \n149  191.481228    37.907194  15.155764       0.008875        0.105314   \n150   89.547569     7.099743  15.330942       0.008427        0.053551   \n151  198.004652     8.453614  20.489326       0.004976        0.044515   \n152  199.988862    35.957828  15.745349       0.005447        0.059404   \n\n     meanF0Hz_E  stdevF0Hz_E      HNR_E  localJitter_E  localShimmer_E  ...  \\\n0    133.020486    38.542130   7.533482       0.020941        0.073459  ...   \n1    110.326815     2.080092  18.960228       0.002901        0.040334  ...   \n2    271.686202    29.988381  17.879116       0.006131        0.061510  ...   \n3    137.446289    37.492782  12.588997       0.025474        0.121935  ...   \n4    124.193637     8.924540  14.532564       0.008929        0.050231  ...   \n..          ...          ...        ...            ...             ...  ...   \n148  110.012620     2.392617  14.198711       0.005454        0.074327  ...   \n149  208.851723     5.643836  16.449711       0.006031        0.044338  ...   \n150   89.781438     1.947923  18.327486       0.006540        0.039039  ...   \n151  179.117504    25.584503  20.083634       0.006151        0.037730  ...   \n152  215.561104    25.822102  20.599328       0.004092        0.033240  ...   \n\n     meanF0Hz_reading  stdevF0Hz_reading  HNR_reading  localJitter_reading  \\\n0          154.784930          25.600493    14.628406             0.024556   \n1          115.022505          17.552534    13.049038             0.024900   \n2          109.838707          27.288251     6.273478             0.048908   \n3          179.639179          32.185735    16.471982             0.026599   \n4          158.759543          26.534077    14.130253             0.021391   \n..                ...                ...          ...                  ...   \n148        114.088010          20.445599    12.725150             0.029448   \n149        152.504687          47.189924    14.996596             0.025562   \n150        120.307717          19.902948    12.739829             0.027704   \n151        174.711133          59.497713    13.084609             0.026870   \n152        240.995036          42.567249    18.736497             0.013633   \n\n     localShimmer_reading  meanF0Hz_weekdays  stdevF0Hz_weekdays  \\\n0                0.101038         134.358426           27.834251   \n1                0.107048         127.611455           10.537534   \n2                0.173242         313.471099           48.290021   \n3                0.094550         143.224404           13.736031   \n4                0.107649         149.106332           13.907753   \n..                    ...                ...                 ...   \n148              0.129828         102.323101            9.351459   \n149              0.090555         172.125564           27.312757   \n150              0.106279          94.570705           17.114239   \n151              0.121823         179.991873           22.833428   \n152              0.057022         210.197208           21.825085   \n\n     HNR_weekdays  localJitter_weekdays  localShimmer_weekdays  \n0       11.559769              0.031324               0.091914  \n1       13.078998              0.024352               0.121875  \n2       18.394187              0.011568               0.070200  \n3        9.923654              0.052997               0.174522  \n4       14.660498              0.019712               0.105505  \n..            ...                   ...                    ...  \n148     12.980051              0.021624               0.145985  \n149     13.443612              0.022550               0.119994  \n150      9.138906              0.036094               0.153001  \n151     17.908040              0.019972               0.088654  \n152     16.401759              0.022534               0.112827  \n\n[153 rows x 55 columns]",
      "text/html": "<div>\n<style scoped>\n    .dataframe tbody tr th:only-of-type {\n        vertical-align: middle;\n    }\n\n    .dataframe tbody tr th {\n        vertical-align: top;\n    }\n\n    .dataframe thead th {\n        text-align: right;\n    }\n</style>\n<table border=\"1\" class=\"dataframe\">\n  <thead>\n    <tr style=\"text-align: right;\">\n      <th></th>\n      <th>meanF0Hz_A</th>\n      <th>stdevF0Hz_A</th>\n      <th>HNR_A</th>\n      <th>localJitter_A</th>\n      <th>localShimmer_A</th>\n      <th>meanF0Hz_E</th>\n      <th>stdevF0Hz_E</th>\n      <th>HNR_E</th>\n      <th>localJitter_E</th>\n      <th>localShimmer_E</th>\n      <th>...</th>\n      <th>meanF0Hz_reading</th>\n      <th>stdevF0Hz_reading</th>\n      <th>HNR_reading</th>\n      <th>localJitter_reading</th>\n      <th>localShimmer_reading</th>\n      <th>meanF0Hz_weekdays</th>\n      <th>stdevF0Hz_weekdays</th>\n      <th>HNR_weekdays</th>\n      <th>localJitter_weekdays</th>\n      <th>localShimmer_weekdays</th>\n    </tr>\n  </thead>\n  <tbody>\n    <tr>\n      <th>0</th>\n      <td>122.625890</td>\n      <td>18.308558</td>\n      <td>6.185609</td>\n      <td>0.025957</td>\n      <td>0.085198</td>\n      <td>133.020486</td>\n      <td>38.542130</td>\n      <td>7.533482</td>\n      <td>0.020941</td>\n      <td>0.073459</td>\n      <td>...</td>\n      <td>154.784930</td>\n      <td>25.600493</td>\n      <td>14.628406</td>\n      <td>0.024556</td>\n      <td>0.101038</td>\n      <td>134.358426</td>\n      <td>27.834251</td>\n      <td>11.559769</td>\n      <td>0.031324</td>\n      <td>0.091914</td>\n    </tr>\n    <tr>\n      <th>1</th>\n      <td>102.958538</td>\n      <td>2.024638</td>\n      <td>13.491418</td>\n      <td>0.004990</td>\n      <td>0.083933</td>\n      <td>110.326815</td>\n      <td>2.080092</td>\n      <td>18.960228</td>\n      <td>0.002901</td>\n      <td>0.040334</td>\n      <td>...</td>\n      <td>115.022505</td>\n      <td>17.552534</td>\n      <td>13.049038</td>\n      <td>0.024900</td>\n      <td>0.107048</td>\n      <td>127.611455</td>\n      <td>10.537534</td>\n      <td>13.078998</td>\n      <td>0.024352</td>\n      <td>0.121875</td>\n    </tr>\n    <tr>\n      <th>2</th>\n      <td>283.735303</td>\n      <td>10.781174</td>\n      <td>14.269925</td>\n      <td>0.006732</td>\n      <td>0.090368</td>\n      <td>271.686202</td>\n      <td>29.988381</td>\n      <td>17.879116</td>\n      <td>0.006131</td>\n      <td>0.061510</td>\n      <td>...</td>\n      <td>109.838707</td>\n      <td>27.288251</td>\n      <td>6.273478</td>\n      <td>0.048908</td>\n      <td>0.173242</td>\n      <td>313.471099</td>\n      <td>48.290021</td>\n      <td>18.394187</td>\n      <td>0.011568</td>\n      <td>0.070200</td>\n    </tr>\n    <tr>\n      <th>3</th>\n      <td>144.947021</td>\n      <td>47.763949</td>\n      <td>11.205767</td>\n      <td>0.027163</td>\n      <td>0.112227</td>\n      <td>137.446289</td>\n      <td>37.492782</td>\n      <td>12.588997</td>\n      <td>0.025474</td>\n      <td>0.121935</td>\n      <td>...</td>\n      <td>179.639179</td>\n      <td>32.185735</td>\n      <td>16.471982</td>\n      <td>0.026599</td>\n      <td>0.094550</td>\n      <td>143.224404</td>\n      <td>13.736031</td>\n      <td>9.923654</td>\n      <td>0.052997</td>\n      <td>0.174522</td>\n    </tr>\n    <tr>\n      <th>4</th>\n      <td>139.629661</td>\n      <td>7.814077</td>\n      <td>8.086968</td>\n      <td>0.015185</td>\n      <td>0.043142</td>\n      <td>124.193637</td>\n      <td>8.924540</td>\n      <td>14.532564</td>\n      <td>0.008929</td>\n      <td>0.050231</td>\n      <td>...</td>\n      <td>158.759543</td>\n      <td>26.534077</td>\n      <td>14.130253</td>\n      <td>0.021391</td>\n      <td>0.107649</td>\n      <td>149.106332</td>\n      <td>13.907753</td>\n      <td>14.660498</td>\n      <td>0.019712</td>\n      <td>0.105505</td>\n    </tr>\n    <tr>\n      <th>...</th>\n      <td>...</td>\n      <td>...</td>\n      <td>...</td>\n      <td>...</td>\n      <td>...</td>\n      <td>...</td>\n      <td>...</td>\n      <td>...</td>\n      <td>...</td>\n      <td>...</td>\n      <td>...</td>\n      <td>...</td>\n      <td>...</td>\n      <td>...</td>\n      <td>...</td>\n      <td>...</td>\n      <td>...</td>\n      <td>...</td>\n      <td>...</td>\n      <td>...</td>\n      <td>...</td>\n    </tr>\n    <tr>\n      <th>148</th>\n      <td>98.928193</td>\n      <td>4.137723</td>\n      <td>9.468533</td>\n      <td>0.010948</td>\n      <td>0.118995</td>\n      <td>110.012620</td>\n      <td>2.392617</td>\n      <td>14.198711</td>\n      <td>0.005454</td>\n      <td>0.074327</td>\n      <td>...</td>\n      <td>114.088010</td>\n      <td>20.445599</td>\n      <td>12.725150</td>\n      <td>0.029448</td>\n      <td>0.129828</td>\n      <td>102.323101</td>\n      <td>9.351459</td>\n      <td>12.980051</td>\n      <td>0.021624</td>\n      <td>0.145985</td>\n    </tr>\n    <tr>\n      <th>149</th>\n      <td>191.481228</td>\n      <td>37.907194</td>\n      <td>15.155764</td>\n      <td>0.008875</td>\n      <td>0.105314</td>\n      <td>208.851723</td>\n      <td>5.643836</td>\n      <td>16.449711</td>\n      <td>0.006031</td>\n      <td>0.044338</td>\n      <td>...</td>\n      <td>152.504687</td>\n      <td>47.189924</td>\n      <td>14.996596</td>\n      <td>0.025562</td>\n      <td>0.090555</td>\n      <td>172.125564</td>\n      <td>27.312757</td>\n      <td>13.443612</td>\n      <td>0.022550</td>\n      <td>0.119994</td>\n    </tr>\n    <tr>\n      <th>150</th>\n      <td>89.547569</td>\n      <td>7.099743</td>\n      <td>15.330942</td>\n      <td>0.008427</td>\n      <td>0.053551</td>\n      <td>89.781438</td>\n      <td>1.947923</td>\n      <td>18.327486</td>\n      <td>0.006540</td>\n      <td>0.039039</td>\n      <td>...</td>\n      <td>120.307717</td>\n      <td>19.902948</td>\n      <td>12.739829</td>\n      <td>0.027704</td>\n      <td>0.106279</td>\n      <td>94.570705</td>\n      <td>17.114239</td>\n      <td>9.138906</td>\n      <td>0.036094</td>\n      <td>0.153001</td>\n    </tr>\n    <tr>\n      <th>151</th>\n      <td>198.004652</td>\n      <td>8.453614</td>\n      <td>20.489326</td>\n      <td>0.004976</td>\n      <td>0.044515</td>\n      <td>179.117504</td>\n      <td>25.584503</td>\n      <td>20.083634</td>\n      <td>0.006151</td>\n      <td>0.037730</td>\n      <td>...</td>\n      <td>174.711133</td>\n      <td>59.497713</td>\n      <td>13.084609</td>\n      <td>0.026870</td>\n      <td>0.121823</td>\n      <td>179.991873</td>\n      <td>22.833428</td>\n      <td>17.908040</td>\n      <td>0.019972</td>\n      <td>0.088654</td>\n    </tr>\n    <tr>\n      <th>152</th>\n      <td>199.988862</td>\n      <td>35.957828</td>\n      <td>15.745349</td>\n      <td>0.005447</td>\n      <td>0.059404</td>\n      <td>215.561104</td>\n      <td>25.822102</td>\n      <td>20.599328</td>\n      <td>0.004092</td>\n      <td>0.033240</td>\n      <td>...</td>\n      <td>240.995036</td>\n      <td>42.567249</td>\n      <td>18.736497</td>\n      <td>0.013633</td>\n      <td>0.057022</td>\n      <td>210.197208</td>\n      <td>21.825085</td>\n      <td>16.401759</td>\n      <td>0.022534</td>\n      <td>0.112827</td>\n    </tr>\n  </tbody>\n</table>\n<p>153 rows × 55 columns</p>\n</div>"
     },
     "execution_count": 45,
     "metadata": {},
     "output_type": "execute_result"
    }
   ],
   "source": [
    "X = df.iloc[:, 33:88].astype(float)\n",
    "X"
   ],
   "metadata": {
    "collapsed": false,
    "ExecuteTime": {
     "end_time": "2024-10-19T15:58:54.034335Z",
     "start_time": "2024-10-19T15:58:54.017121Z"
    }
   },
   "id": "a4ef2a16b08f6f32",
   "execution_count": 45
  },
  {
   "cell_type": "code",
   "outputs": [
    {
     "name": "stdout",
     "output_type": "stream",
     "text": [
      "(153,)\n"
     ]
    },
    {
     "data": {
      "text/plain": "array([1., 0., 1., 1., 0., 1., 1., 1., 0., 1., 1., 1., 1., 1., 1., 1., 1.,\n       0., 1., 1., 1., 1., 0., 1., 1., 1., 0., 1., 0., 1., 0., 0., 1., 1.,\n       1., 1., 1., 0., 1., 0., 1., 1., 0., 0., 1., 1., 0., 0., 1., 0., 1.,\n       1., 0., 1., 1., 1., 1., 1., 0., 0., 1., 1., 0., 0., 0., 1., 1., 0.,\n       0., 1., 0., 0., 0., 1., 0., 0., 1., 0., 0., 1., 1., 1., 1., 1., 1.,\n       1., 1., 0., 1., 0., 1., 1., 0., 1., 1., 1., 1., 1., 1., 1., 1., 1.,\n       0., 1., 0., 0., 1., 0., 0., 0., 1., 1., 1., 1., 1., 1., 0., 1., 1.,\n       1., 0., 1., 1., 0., 1., 0., 0., 1., 0., 1., 1., 1., 1., 1., 1., 0.,\n       1., 1., 1., 0., 0., 1., 1., 1., 0., 1., 1., 1., 0., 1., 1., 1., 1.])"
     },
     "execution_count": 55,
     "metadata": {},
     "output_type": "execute_result"
    }
   ],
   "source": [
    "y = df['Category']\n",
    "# HC=0, ALS=1\n",
    "y = pd.get_dummies(y, drop_first=True)\n",
    "y = np.logical_not(y).astype(float).to_numpy().ravel()\n",
    "print(y.shape)\n",
    "y"
   ],
   "metadata": {
    "collapsed": false,
    "ExecuteTime": {
     "end_time": "2024-10-19T16:00:28.902640Z",
     "start_time": "2024-10-19T16:00:28.894658Z"
    }
   },
   "id": "4632e4ec15998f57",
   "execution_count": 55
  },
  {
   "cell_type": "code",
   "outputs": [],
   "source": [
    "#splitting the data\n",
    "X_train, X_test, y_train, y_test = train_test_split(X, y, test_size=0.3, random_state=0)"
   ],
   "metadata": {
    "collapsed": false,
    "ExecuteTime": {
     "end_time": "2024-10-19T16:00:34.955091Z",
     "start_time": "2024-10-19T16:00:34.946641Z"
    }
   },
   "id": "61c2ddcc47945d4e",
   "execution_count": 56
  },
  {
   "cell_type": "code",
   "outputs": [
    {
     "data": {
      "text/plain": "0.5652173913043478"
     },
     "execution_count": 60,
     "metadata": {},
     "output_type": "execute_result"
    }
   ],
   "source": [
    "#fitting the model\n",
    "model = LogisticRegression(max_iter=10000)\n",
    "model.fit(X_train, y_train)\n",
    "model.score(X_test, y_test)"
   ],
   "metadata": {
    "collapsed": false,
    "ExecuteTime": {
     "end_time": "2024-10-19T16:01:14.882048Z",
     "start_time": "2024-10-19T16:01:14.618082Z"
    }
   },
   "id": "c5d527ec61bde22d",
   "execution_count": 60
  },
  {
   "cell_type": "code",
   "outputs": [
    {
     "data": {
      "text/plain": "0.6304347826086957"
     },
     "execution_count": 61,
     "metadata": {},
     "output_type": "execute_result"
    }
   ],
   "source": [
    "#fitting random forest\n",
    "from sklearn.ensemble import RandomForestClassifier\n",
    "model = RandomForestClassifier()\n",
    "model.fit(X_train, y_train)\n",
    "model.score(X_test, y_test)"
   ],
   "metadata": {
    "collapsed": false,
    "ExecuteTime": {
     "end_time": "2024-10-19T16:01:39.833464Z",
     "start_time": "2024-10-19T16:01:39.583489Z"
    }
   },
   "id": "7fda0e71f1a8626e",
   "execution_count": 61
  },
  {
   "cell_type": "code",
   "outputs": [
    {
     "data": {
      "text/plain": "0.6956521739130435"
     },
     "execution_count": 62,
     "metadata": {},
     "output_type": "execute_result"
    }
   ],
   "source": [
    "#fitting SVM\n",
    "from sklearn.svm import SVC\n",
    "model = SVC()\n",
    "model.fit(X_train, y_train)\n",
    "model.score(X_test, y_test)"
   ],
   "metadata": {
    "collapsed": false,
    "ExecuteTime": {
     "end_time": "2024-10-19T16:01:59.110277Z",
     "start_time": "2024-10-19T16:01:59.096534Z"
    }
   },
   "id": "a9d5b861dab439b4",
   "execution_count": 62
  },
  {
   "cell_type": "code",
   "outputs": [
    {
     "data": {
      "text/plain": "0.5434782608695652"
     },
     "execution_count": 63,
     "metadata": {},
     "output_type": "execute_result"
    }
   ],
   "source": [
    "#fitting K\n",
    "from sklearn.neighbors import KNeighborsClassifier\n",
    "model = KNeighborsClassifier()\n",
    "model.fit(X_train, y_train)\n",
    "model.score(X_test, y_test)"
   ],
   "metadata": {
    "collapsed": false,
    "ExecuteTime": {
     "end_time": "2024-10-19T16:02:11.890317Z",
     "start_time": "2024-10-19T16:02:11.801830Z"
    }
   },
   "id": "22f4bd1c85431ec4",
   "execution_count": 63
  },
  {
   "cell_type": "code",
   "outputs": [
    {
     "data": {
      "text/plain": "0.717391304347826"
     },
     "execution_count": 64,
     "metadata": {},
     "output_type": "execute_result"
    }
   ],
   "source": [
    "# fitting decision tree\n",
    "from sklearn.tree import DecisionTreeClassifier\n",
    "model = DecisionTreeClassifier()\n",
    "model.fit(X_train, y_train)\n",
    "model.score(X_test, y_test)"
   ],
   "metadata": {
    "collapsed": false,
    "ExecuteTime": {
     "end_time": "2024-10-19T16:02:47.262054Z",
     "start_time": "2024-10-19T16:02:47.243065Z"
    }
   },
   "id": "d83f4856a12289c3",
   "execution_count": 64
  },
  {
   "cell_type": "code",
   "outputs": [
    {
     "data": {
      "text/plain": "0.5652173913043478"
     },
     "execution_count": 65,
     "metadata": {},
     "output_type": "execute_result"
    }
   ],
   "source": [
    "# fitting naive bayes\n",
    "from sklearn.naive_bayes import GaussianNB\n",
    "model = GaussianNB()\n",
    "model.fit(X_train, y_train)\n",
    "model.score(X_test, y_test)"
   ],
   "metadata": {
    "collapsed": false,
    "ExecuteTime": {
     "end_time": "2024-10-19T16:03:00.556308Z",
     "start_time": "2024-10-19T16:03:00.538328Z"
    }
   },
   "id": "9c9df394b3739bd9",
   "execution_count": 65
  },
  {
   "cell_type": "code",
   "outputs": [
    {
     "name": "stderr",
     "output_type": "stream",
     "text": [
      "/home/eop/code/intro_to_ml_csc2515/project/venv/lib/python3.10/site-packages/sklearn/neural_network/_multilayer_perceptron.py:690: ConvergenceWarning: Stochastic Optimizer: Maximum iterations (200) reached and the optimization hasn't converged yet.\n",
      "  warnings.warn(\n"
     ]
    },
    {
     "data": {
      "text/plain": "0.6304347826086957"
     },
     "execution_count": 66,
     "metadata": {},
     "output_type": "execute_result"
    }
   ],
   "source": [
    "# fitting neural network\n",
    "from sklearn.neural_network import MLPClassifier\n",
    "model = MLPClassifier()\n",
    "model.fit(X_train, y_train)\n",
    "model.score(X_test, y_test)"
   ],
   "metadata": {
    "collapsed": false,
    "ExecuteTime": {
     "end_time": "2024-10-19T16:03:12.092119Z",
     "start_time": "2024-10-19T16:03:11.985575Z"
    }
   },
   "id": "d3f4a49d5e9bad76",
   "execution_count": 66
  },
  {
   "cell_type": "code",
   "outputs": [
    {
     "data": {
      "text/plain": "0.6739130434782609"
     },
     "execution_count": 67,
     "metadata": {},
     "output_type": "execute_result"
    }
   ],
   "source": [
    "# fitting gradient boosting\n",
    "from sklearn.ensemble import GradientBoostingClassifier\n",
    "model = GradientBoostingClassifier()\n",
    "model.fit(X_train, y_train)\n",
    "model.score(X_test, y_test)"
   ],
   "metadata": {
    "collapsed": false,
    "ExecuteTime": {
     "end_time": "2024-10-19T16:03:25.089554Z",
     "start_time": "2024-10-19T16:03:24.830166Z"
    }
   },
   "id": "c3ff69856249d79f",
   "execution_count": 67
  },
  {
   "cell_type": "code",
   "outputs": [
    {
     "name": "stderr",
     "output_type": "stream",
     "text": [
      "/home/eop/code/intro_to_ml_csc2515/project/venv/lib/python3.10/site-packages/sklearn/ensemble/_weight_boosting.py:527: FutureWarning: The SAMME.R algorithm (the default) is deprecated and will be removed in 1.6. Use the SAMME algorithm to circumvent this warning.\n",
      "  warnings.warn(\n"
     ]
    },
    {
     "data": {
      "text/plain": "0.45652173913043476"
     },
     "execution_count": 68,
     "metadata": {},
     "output_type": "execute_result"
    }
   ],
   "source": [
    "# fitting adaboost\n",
    "from sklearn.ensemble import AdaBoostClassifier\n",
    "model = AdaBoostClassifier()\n",
    "model.fit(X_train, y_train)\n",
    "model.score(X_test, y_test)"
   ],
   "metadata": {
    "collapsed": false,
    "ExecuteTime": {
     "end_time": "2024-10-19T16:03:34.335109Z",
     "start_time": "2024-10-19T16:03:34.220486Z"
    }
   },
   "id": "6184497f2a687241",
   "execution_count": 68
  },
  {
   "cell_type": "code",
   "outputs": [
    {
     "data": {
      "text/plain": "0.5434782608695652"
     },
     "execution_count": 69,
     "metadata": {},
     "output_type": "execute_result"
    }
   ],
   "source": [
    "# fitting bagging\n",
    "from sklearn.ensemble import BaggingClassifier\n",
    "model = BaggingClassifier()\n",
    "model.fit(X_train, y_train)\n",
    "model.score(X_test, y_test)"
   ],
   "metadata": {
    "collapsed": false,
    "ExecuteTime": {
     "end_time": "2024-10-19T16:03:43.423661Z",
     "start_time": "2024-10-19T16:03:43.378421Z"
    }
   },
   "id": "bfc8ace3995cb4aa",
   "execution_count": 69
  },
  {
   "cell_type": "code",
   "outputs": [
    {
     "data": {
      "text/plain": "0.6521739130434783"
     },
     "execution_count": 70,
     "metadata": {},
     "output_type": "execute_result"
    }
   ],
   "source": [
    "# fitting extra trees\n",
    "from sklearn.ensemble import ExtraTreesClassifier\n",
    "model = ExtraTreesClassifier()\n",
    "model.fit(X_train, y_train)\n",
    "model.score(X_test, y_test)"
   ],
   "metadata": {
    "collapsed": false,
    "ExecuteTime": {
     "end_time": "2024-10-19T16:03:53.802117Z",
     "start_time": "2024-10-19T16:03:53.715364Z"
    }
   },
   "id": "498afb5e7fb085cf",
   "execution_count": 70
  },
  {
   "cell_type": "code",
   "outputs": [
    {
     "data": {
      "text/plain": "0.6521739130434783"
     },
     "execution_count": 72,
     "metadata": {},
     "output_type": "execute_result"
    }
   ],
   "source": [
    "# fitting xgboost\n",
    "from xgboost import XGBClassifier\n",
    "model = XGBClassifier()\n",
    "model.fit(X_train, y_train)\n",
    "model.score(X_test, y_test)"
   ],
   "metadata": {
    "collapsed": false,
    "ExecuteTime": {
     "end_time": "2024-10-19T16:06:56.626724Z",
     "start_time": "2024-10-19T16:06:54.010508Z"
    }
   },
   "id": "4bfd2a1c1dbbf9ed",
   "execution_count": 72
  }
 ],
 "metadata": {
  "kernelspec": {
   "display_name": "Python 3",
   "language": "python",
   "name": "python3"
  },
  "language_info": {
   "codemirror_mode": {
    "name": "ipython",
    "version": 2
   },
   "file_extension": ".py",
   "mimetype": "text/x-python",
   "name": "python",
   "nbconvert_exporter": "python",
   "pygments_lexer": "ipython2",
   "version": "2.7.6"
  }
 },
 "nbformat": 4,
 "nbformat_minor": 5
}

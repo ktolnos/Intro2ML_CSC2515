{
 "cells": [
  {
   "cell_type": "code",
   "execution_count": 1,
   "id": "initial_id",
   "metadata": {
    "collapsed": true,
    "ExecuteTime": {
     "end_time": "2024-09-23T02:42:02.954089Z",
     "start_time": "2024-09-23T02:42:01.687213Z"
    }
   },
   "outputs": [],
   "source": [
    "import pandas as pd\n",
    "import numpy as np\n",
    "from sklearn.model_selection import train_test_split\n",
    "from sklearn.feature_extraction.text import CountVectorizer\n",
    "from sklearn.neighbors import KNeighborsClassifier\n",
    "from sklearn.tree import DecisionTreeClassifier, plot_tree\n",
    "import matplotlib.pyplot as plt"
   ]
  },
  {
   "cell_type": "markdown",
   "source": [
    "# (a) Load the data"
   ],
   "metadata": {
    "collapsed": false
   },
   "id": "9ef049c11581f0be"
  },
  {
   "cell_type": "code",
   "outputs": [
    {
     "data": {
      "text/plain": "((2930, 10346), (628, 10346), (629, 10346), (2930,), (628,), (629,))"
     },
     "execution_count": 2,
     "metadata": {},
     "output_type": "execute_result"
    }
   ],
   "source": [
    "def load_data(exists_path, dne_path):\n",
    "    exists_data = pd.read_csv(exists_path)\n",
    "    dne_data = pd.read_csv(dne_path)\n",
    "    \n",
    "    exists_data['label'] = 1  # \"climate change asserting\" = 1\n",
    "    dne_data['label'] = 0     # \"climate change denying\" = 0\n",
    "    \n",
    "    data = pd.concat([exists_data, dne_data])\n",
    "    \n",
    "    tweets = data['tweet'].values\n",
    "    labels = data['label'].values\n",
    "    \n",
    "    vectorizer = CountVectorizer()\n",
    "    X = vectorizer.fit_transform(tweets).toarray()\n",
    "    \n",
    "    X_train, X_test_val, y_train, y_test_val = train_test_split(X, labels, test_size=0.3, random_state=42)\n",
    "    X_val, X_test, y_val, y_test = train_test_split(X_test_val, y_test_val, test_size=0.5, random_state=42)\n",
    "    \n",
    "    return X_train, X_val, X_test, y_train, y_val, y_test, vectorizer\n",
    "\n",
    "\n",
    "X_train, X_val, X_test, y_train, y_val, y_test, vectorizer = load_data('data/exists_climate.csv', 'data/DNE_climate.csv')\n",
    "\n",
    "X_train.shape, X_val.shape, X_test.shape, y_train.shape, y_val.shape, y_test.shape"
   ],
   "metadata": {
    "collapsed": false,
    "ExecuteTime": {
     "end_time": "2024-09-23T02:42:03.281442Z",
     "start_time": "2024-09-23T02:42:02.956205Z"
    }
   },
   "id": "4e16b8e7ee7492e7",
   "execution_count": 2
  },
  {
   "cell_type": "markdown",
   "source": [
    "# (b) Select a model"
   ],
   "metadata": {
    "collapsed": false
   },
   "id": "9632ab68f9a4c5e7"
  },
  {
   "cell_type": "code",
   "outputs": [],
   "source": [
    "def train_decision_tree(X_train, y_train, X_val, y_val, criterion='gini', max_depth=3):\n",
    "    \"\"\"\n",
    "    Returns the trained model and the validation accuracy.\n",
    "    \"\"\"\n",
    "    clf = DecisionTreeClassifier(criterion=criterion, max_depth=max_depth, random_state=42)\n",
    "    clf.fit(X_train, y_train)\n",
    "    y_pred_val = clf.predict(X_val)\n",
    "    \n",
    "    accuracy = np.sum(y_val == y_pred_val) / len(y_val)\n",
    "    return clf, accuracy"
   ],
   "metadata": {
    "collapsed": false,
    "ExecuteTime": {
     "end_time": "2024-09-23T02:42:03.288134Z",
     "start_time": "2024-09-23T02:42:03.283383Z"
    }
   },
   "id": "7f1f849d8cc45a5f",
   "execution_count": 3
  },
  {
   "cell_type": "code",
   "outputs": [
    {
     "name": "stdout",
     "output_type": "stream",
     "text": [
      "Criterion: gini, Max Depth: 3, Accuracy: 0.7579617834394905\n",
      "Criterion: gini, Max Depth: 5, Accuracy: 0.7691082802547771\n",
      "Criterion: gini, Max Depth: 10, Accuracy: 0.7611464968152867\n",
      "Criterion: gini, Max Depth: 20, Accuracy: 0.7738853503184714\n",
      "Criterion: gini, Max Depth: 30, Accuracy: 0.7945859872611465\n",
      "Criterion: gini, Max Depth: 40, Accuracy: 0.7945859872611465\n",
      "Criterion: gini, Max Depth: 50, Accuracy: 0.7961783439490446\n",
      "Criterion: gini, Max Depth: 60, Accuracy: 0.7961783439490446\n",
      "Criterion: gini, Max Depth: 70, Accuracy: 0.7945859872611465\n",
      "Criterion: gini, Max Depth: 80, Accuracy: 0.7882165605095541\n",
      "Criterion: gini, Max Depth: 90, Accuracy: 0.7945859872611465\n",
      "Criterion: gini, Max Depth: 100, Accuracy: 0.785031847133758\n",
      "Criterion: entropy, Max Depth: 3, Accuracy: 0.7547770700636943\n",
      "Criterion: entropy, Max Depth: 5, Accuracy: 0.7579617834394905\n",
      "Criterion: entropy, Max Depth: 10, Accuracy: 0.7595541401273885\n",
      "Criterion: entropy, Max Depth: 20, Accuracy: 0.7770700636942676\n",
      "Criterion: entropy, Max Depth: 30, Accuracy: 0.7770700636942676\n",
      "Criterion: entropy, Max Depth: 40, Accuracy: 0.7929936305732485\n",
      "Criterion: entropy, Max Depth: 50, Accuracy: 0.7961783439490446\n",
      "Criterion: entropy, Max Depth: 60, Accuracy: 0.7945859872611465\n",
      "Criterion: entropy, Max Depth: 70, Accuracy: 0.802547770700637\n",
      "Criterion: entropy, Max Depth: 80, Accuracy: 0.8009554140127388\n",
      "Criterion: entropy, Max Depth: 90, Accuracy: 0.8009554140127388\n",
      "Criterion: entropy, Max Depth: 100, Accuracy: 0.8009554140127388\n"
     ]
    }
   ],
   "source": [
    "def select_tree_model(X_train, y_train, X_val, y_val):\n",
    "    max_depths = [3, 5, 10, 20, 30, 40, 50, 60, 70, 80, 90, 100]\n",
    "    criteria = ['gini', 'entropy']    # split criteria: Gini and Information Gain\n",
    "    \n",
    "    metrics = dict()\n",
    "    classifiers = dict()\n",
    "    \n",
    "    for criterion in criteria:\n",
    "        for max_depth in max_depths:\n",
    "            clf, accuracy = train_decision_tree(X_train, y_train, X_val, y_val, criterion, max_depth)\n",
    "            metrics[(criterion, max_depth)] = accuracy\n",
    "            classifiers[(criterion, max_depth)] = clf\n",
    "            print(f'Criterion: {criterion}, Max Depth: {max_depth}, Accuracy: {accuracy}')\n",
    "    return metrics, classifiers\n",
    "\n",
    "metrics, classifiers = select_tree_model(X_train, y_train, X_val, y_val)"
   ],
   "metadata": {
    "collapsed": false,
    "ExecuteTime": {
     "end_time": "2024-09-23T02:44:08.579124Z",
     "start_time": "2024-09-23T02:42:03.295296Z"
    }
   },
   "id": "ccc4f8bbedc3a3b8",
   "execution_count": 4
  },
  {
   "cell_type": "markdown",
   "source": [
    "# (c) Evaluate best model and visualize the tree"
   ],
   "metadata": {
    "collapsed": false
   },
   "id": "d1975270d13684a"
  },
  {
   "cell_type": "code",
   "outputs": [
    {
     "data": {
      "text/plain": "(('entropy', 70), np.float64(0.802547770700637))"
     },
     "execution_count": 5,
     "metadata": {},
     "output_type": "execute_result"
    }
   ],
   "source": [
    "best_hyperparams = max(metrics, key=metrics.get)\n",
    "best_classifier = classifiers[best_hyperparams]\n",
    "best_hyperparams, metrics[best_hyperparams]"
   ],
   "metadata": {
    "collapsed": false,
    "ExecuteTime": {
     "end_time": "2024-09-23T02:44:08.588197Z",
     "start_time": "2024-09-23T02:44:08.581841Z"
    }
   },
   "id": "4a054a2f47dd9861",
   "execution_count": 5
  },
  {
   "cell_type": "code",
   "outputs": [
    {
     "data": {
      "text/plain": "np.float64(0.8155802861685215)"
     },
     "execution_count": 6,
     "metadata": {},
     "output_type": "execute_result"
    }
   ],
   "source": [
    "y_pred_test = best_classifier.predict(X_test)\n",
    "test_accuracy = np.sum(y_test == y_pred_test) / len(y_test)\n",
    "test_accuracy"
   ],
   "metadata": {
    "collapsed": false,
    "ExecuteTime": {
     "end_time": "2024-09-23T02:44:08.647965Z",
     "start_time": "2024-09-23T02:44:08.590158Z"
    }
   },
   "id": "ea1e9b87bc5d2b7d",
   "execution_count": 6
  },
  {
   "cell_type": "code",
   "outputs": [
    {
     "data": {
      "text/plain": "<Figure size 640x480 with 1 Axes>",
      "image/png": "[encoded data removed]"
     },
     "metadata": {},
     "output_type": "display_data"
    }
   ],
   "source": [
    "plot_tree(best_classifier,\n",
    "          max_depth=2, \n",
    "          feature_names=vectorizer.get_feature_names_out(),\n",
    "          class_names=['denying', 'asserting'],\n",
    "          filled=True,\n",
    "          rounded=True)\n",
    "plt.savefig('tree.pdf')"
   ],
   "metadata": {
    "collapsed": false,
    "ExecuteTime": {
     "end_time": "2024-09-23T02:44:09.191644Z",
     "start_time": "2024-09-23T02:44:08.651108Z"
    }
   },
   "id": "17189627a8bea6ab",
   "execution_count": 7
  },
  {
   "cell_type": "markdown",
   "source": [
    "# (d) Compute the information gain"
   ],
   "metadata": {
    "collapsed": false
   },
   "id": "29fbfd4c37ca8cc3"
  },
  {
   "cell_type": "code",
   "outputs": [],
   "source": [
    "def compute_entropy(labels):\n",
    "    \"\"\"\n",
    "    Parameters:\n",
    "    - labels (ndarray): Array of labels (0 or 1).\n",
    "    \"\"\"\n",
    "    n = len(labels)\n",
    "    if n == 0:\n",
    "        return 0\n",
    "    \n",
    "    p_1 = np.sum(labels) / n  # Proportion of positive samples\n",
    "    p_0 = 1 - p_1             # Proportion of negative samples\n",
    "    \n",
    "    entropy = 0     # Handle log(0) case\n",
    "    if p_1 > 0:\n",
    "        entropy -= p_1 * np.log2(p_1)\n",
    "    if p_0 > 0:\n",
    "        entropy -= p_0 * np.log2(p_0)\n",
    "    \n",
    "    return entropy"
   ],
   "metadata": {
    "collapsed": false,
    "ExecuteTime": {
     "end_time": "2024-09-23T02:44:09.198170Z",
     "start_time": "2024-09-23T02:44:09.193383Z"
    }
   },
   "id": "6ce5ee71d42d5350",
   "execution_count": 8
  },
  {
   "cell_type": "code",
   "outputs": [],
   "source": [
    "def compute_information_gain(X, y, feature_index):\n",
    "    \"\"\"\n",
    "    Computes the information gain of a split on a given feature.\n",
    "    \"\"\"\n",
    "    # Total entropy before the split\n",
    "    total_entropy = compute_entropy(y)\n",
    "    \n",
    "    # Split data based on the existence of the keyword (feature_index)\n",
    "    feature_column = X[:, feature_index]\n",
    "    \n",
    "    # Split where the keyword exists (True) and does not exist (False)\n",
    "    y_true = y[feature_column > 0]   # Tweets where keyword exists\n",
    "    y_false = y[feature_column == 0] # Tweets where keyword does not exist\n",
    "    \n",
    "    # Entropy after the split\n",
    "    n = len(y)\n",
    "    n_true = len(y_true)\n",
    "    n_false = len(y_false)\n",
    "    \n",
    "    entropy_true = compute_entropy(y_true)\n",
    "    entropy_false = compute_entropy(y_false)\n",
    "    \n",
    "    conditional_entropy = (n_true / n) * entropy_true + (n_false / n) * entropy_false\n",
    "    \n",
    "    information_gain = total_entropy - conditional_entropy\n",
    "    return information_gain"
   ],
   "metadata": {
    "collapsed": false,
    "ExecuteTime": {
     "end_time": "2024-09-23T02:44:09.210741Z",
     "start_time": "2024-09-23T02:44:09.199847Z"
    }
   },
   "id": "cbeae58fc3f08e9c",
   "execution_count": 9
  },
  {
   "cell_type": "code",
   "outputs": [],
   "source": [
    "def print_ig(keyword):\n",
    "    feature_index = vectorizer.vocabulary_[keyword]\n",
    "    ig = compute_information_gain(X_train, y_train, feature_index)\n",
    "    print('Keyword: {0: <8} Information Gain: {1}'.format(keyword, ig))"
   ],
   "metadata": {
    "collapsed": false,
    "ExecuteTime": {
     "end_time": "2024-09-23T02:44:09.227213Z",
     "start_time": "2024-09-23T02:44:09.213401Z"
    }
   },
   "id": "a2673ad1b98eaf61",
   "execution_count": 10
  },
  {
   "cell_type": "code",
   "outputs": [
    {
     "name": "stdout",
     "output_type": "stream",
     "text": [
      "Keyword: warming  Information Gain: 0.06221614264141173\n",
      "Keyword: climate  Information Gain: 0.04276582223236469\n",
      "Keyword: change   Information Gain: 0.04506291595343326\n",
      "Keyword: global   Information Gain: 0.0571059428982198\n",
      "Keyword: scam     Information Gain: 0.01586762498217764\n",
      "Keyword: theory   Information Gain: 0.002097028843104143\n",
      "Keyword: random   Information Gain: 0.0\n"
     ]
    }
   ],
   "source": [
    "print_ig('warming')\n",
    "print_ig('climate')\n",
    "print_ig('change')\n",
    "print_ig('global')\n",
    "print_ig('scam')\n",
    "print_ig('theory')\n",
    "print_ig('random')"
   ],
   "metadata": {
    "collapsed": false,
    "ExecuteTime": {
     "end_time": "2024-09-23T02:44:09.253021Z",
     "start_time": "2024-09-23T02:44:09.230442Z"
    }
   },
   "id": "21b9691929a5cf31",
   "execution_count": 11
  },
  {
   "cell_type": "markdown",
   "source": [
    "# (e) KNN"
   ],
   "metadata": {
    "collapsed": false
   },
   "id": "86d8fcc069cce3c1"
  },
  {
   "cell_type": "code",
   "outputs": [],
   "source": [
    "def evaluate_knn(k):\n",
    "    clf = KNeighborsClassifier(n_neighbors=k)\n",
    "    clf.fit(X_train, y_train)\n",
    "    \n",
    "    y_pred_train = clf.predict(X_train)\n",
    "    accuracy_train = np.sum(y_train == y_pred_train) / len(y_train)\n",
    "    \n",
    "    y_pred_val = clf.predict(X_val)\n",
    "    accuracy_val = np.sum(y_val == y_pred_val) / len(y_val)\n",
    "    return accuracy_train, accuracy_val, clf"
   ],
   "metadata": {
    "collapsed": false,
    "ExecuteTime": {
     "end_time": "2024-09-23T02:44:09.269696Z",
     "start_time": "2024-09-23T02:44:09.259483Z"
    }
   },
   "id": "58e20e9b7a3a1180",
   "execution_count": 12
  },
  {
   "cell_type": "code",
   "outputs": [
    {
     "name": "stdout",
     "output_type": "stream",
     "text": [
      "k: 1, Validation Accuracy: 0.7818471337579618, Train Accuracy: 0.9945392491467577\n",
      "k: 2, Validation Accuracy: 0.7277070063694268, Train Accuracy: 0.9109215017064847\n",
      "k: 3, Validation Accuracy: 0.7659235668789809, Train Accuracy: 0.8819112627986349\n",
      "k: 4, Validation Accuracy: 0.7340764331210191, Train Accuracy: 0.847098976109215\n",
      "k: 5, Validation Accuracy: 0.7754777070063694, Train Accuracy: 0.8580204778156997\n",
      "k: 6, Validation Accuracy: 0.7563694267515924, Train Accuracy: 0.8505119453924914\n",
      "k: 7, Validation Accuracy: 0.7659235668789809, Train Accuracy: 0.8348122866894198\n",
      "k: 8, Validation Accuracy: 0.7563694267515924, Train Accuracy: 0.8440273037542663\n",
      "k: 9, Validation Accuracy: 0.7802547770700637, Train Accuracy: 0.8225255972696246\n",
      "k: 10, Validation Accuracy: 0.7722929936305732, Train Accuracy: 0.8255972696245734\n",
      "k: 11, Validation Accuracy: 0.7834394904458599, Train Accuracy: 0.8156996587030717\n",
      "k: 12, Validation Accuracy: 0.7898089171974523, Train Accuracy: 0.8170648464163822\n",
      "k: 13, Validation Accuracy: 0.7898089171974523, Train Accuracy: 0.8156996587030717\n",
      "k: 14, Validation Accuracy: 0.7993630573248408, Train Accuracy: 0.8184300341296928\n",
      "k: 15, Validation Accuracy: 0.7802547770700637, Train Accuracy: 0.8085324232081911\n",
      "k: 16, Validation Accuracy: 0.785031847133758, Train Accuracy: 0.8092150170648464\n",
      "k: 17, Validation Accuracy: 0.7882165605095541, Train Accuracy: 0.7993174061433447\n",
      "k: 18, Validation Accuracy: 0.7882165605095541, Train Accuracy: 0.7996587030716723\n",
      "k: 19, Validation Accuracy: 0.7929936305732485, Train Accuracy: 0.7969283276450512\n"
     ]
    }
   ],
   "source": [
    "def select_knn_model():\n",
    "    k_values = np.arange(1, 20)\n",
    "    train_metrics = dict()\n",
    "    val_metrics = dict()\n",
    "    classifiers = dict()\n",
    "    \n",
    "    for k in k_values:\n",
    "        accuracy_train, accuracy_val, clf = evaluate_knn(k)\n",
    "        train_metrics[k] = accuracy_train\n",
    "        val_metrics[k] = accuracy_val\n",
    "        classifiers[k] = clf\n",
    "        print(f'k: {k}, Validation Accuracy: {accuracy_val}, Train Accuracy: {accuracy_train}')\n",
    "    return train_metrics, val_metrics, classifiers\n",
    "\n",
    "knn_metrics_train, knn_metrics_val, knn_classifiers = select_knn_model()"
   ],
   "metadata": {
    "collapsed": false,
    "ExecuteTime": {
     "end_time": "2024-09-23T02:45:11.248472Z",
     "start_time": "2024-09-23T02:44:09.272145Z"
    }
   },
   "id": "36c7a8cea26e622a",
   "execution_count": 13
  },
  {
   "cell_type": "code",
   "outputs": [
    {
     "data": {
      "text/plain": "<Figure size 640x480 with 1 Axes>",
      "image/png": "[encoded data removed]"
     },
     "metadata": {},
     "output_type": "display_data"
    }
   ],
   "source": [
    "def plot_metrics(train_metrics, val_metrics):\n",
    "    plt.plot(train_metrics.keys(), train_metrics.values(), label='Train')\n",
    "    plt.plot(val_metrics.keys(), val_metrics.values(), label='Validation')\n",
    "    plt.xticks(np.arange(1, 20))\n",
    "    plt.legend()\n",
    "    plt.xlabel('k')\n",
    "    plt.ylabel('Accuracy')\n",
    "    plt.title('Train & Validation Accuracy vs. k')\n",
    "    plt.savefig('knn.pdf')\n",
    "    \n",
    "plot_metrics(knn_metrics_train, knn_metrics_val)"
   ],
   "metadata": {
    "collapsed": false,
    "ExecuteTime": {
     "end_time": "2024-09-23T02:45:11.447032Z",
     "start_time": "2024-09-23T02:45:11.250405Z"
    }
   },
   "id": "7d0fbaadf5982864",
   "execution_count": 14
  },
  {
   "cell_type": "code",
   "outputs": [
    {
     "data": {
      "text/plain": "(np.int64(14), np.float64(0.7993630573248408))"
     },
     "execution_count": 15,
     "metadata": {},
     "output_type": "execute_result"
    }
   ],
   "source": [
    "best_knn_ind = max(knn_metrics_val, key=knn_metrics_val.get)\n",
    "best_knn_ind, knn_metrics_val[best_knn_ind]"
   ],
   "metadata": {
    "collapsed": false,
    "ExecuteTime": {
     "end_time": "2024-09-23T02:45:11.453729Z",
     "start_time": "2024-09-23T02:45:11.448769Z"
    }
   },
   "id": "6f85d3ce01f98852",
   "execution_count": 15
  },
  {
   "cell_type": "code",
   "outputs": [
    {
     "data": {
      "text/plain": "0.7503974562798092"
     },
     "execution_count": 16,
     "metadata": {},
     "output_type": "execute_result"
    }
   ],
   "source": [
    "best_knn = knn_classifiers[best_knn_ind]\n",
    "y_pred_test_knn = best_knn.predict(X_test)\n",
    "test_accuracy_knn = np.sum(y_test == y_pred_test_knn) / len(y_test)\n",
    "float(test_accuracy_knn)"
   ],
   "metadata": {
    "collapsed": false,
    "ExecuteTime": {
     "end_time": "2024-09-23T02:45:12.602552Z",
     "start_time": "2024-09-23T02:45:11.455351Z"
    }
   },
   "id": "79fe22ba2dadd043",
   "execution_count": 16
  }
 ],
 "metadata": {
  "kernelspec": {
   "display_name": "Python 3",
   "language": "python",
   "name": "python3"
  },
  "language_info": {
   "codemirror_mode": {
    "name": "ipython",
    "version": 2
   },
   "file_extension": ".py",
   "mimetype": "text/x-python",
   "name": "python",
   "nbconvert_exporter": "python",
   "pygments_lexer": "ipython2",
   "version": "2.7.6"
  }
 },
 "nbformat": 4,
 "nbformat_minor": 5
}
